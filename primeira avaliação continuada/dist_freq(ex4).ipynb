{
 "cells": [
  {
   "cell_type": "markdown",
   "metadata": {},
   "source": [
    "4)\tDeseja-se através de um questionário distribuído em uma empresa, obter informações sobre alguns aspectos sociais de seus funcionários. Dentre outras questões, pesquisou-se o estado civil e há quanto tempo o funcionário trabalha na empresa. Foram selecionados, ao acaso, 15 questionários com os resultados relacionados a seguir:"
   ]
  },
  {
   "cell_type": "code",
   "execution_count": 14,
   "metadata": {},
   "outputs": [
    {
     "data": {
      "text/html": [
       "<div>\n",
       "<style scoped>\n",
       "    .dataframe tbody tr th:only-of-type {\n",
       "        vertical-align: middle;\n",
       "    }\n",
       "\n",
       "    .dataframe tbody tr th {\n",
       "        vertical-align: top;\n",
       "    }\n",
       "\n",
       "    .dataframe thead th {\n",
       "        text-align: right;\n",
       "    }\n",
       "</style>\n",
       "<table border=\"1\" class=\"dataframe\">\n",
       "  <thead>\n",
       "    <tr style=\"text-align: right;\">\n",
       "      <th></th>\n",
       "      <th>Funcion�rio</th>\n",
       "      <th>Estado Civil</th>\n",
       "      <th>Tempo na Empresa</th>\n",
       "    </tr>\n",
       "  </thead>\n",
       "  <tbody>\n",
       "    <tr>\n",
       "      <th>0</th>\n",
       "      <td>1</td>\n",
       "      <td>Solteiro</td>\n",
       "      <td>2</td>\n",
       "    </tr>\n",
       "    <tr>\n",
       "      <th>1</th>\n",
       "      <td>2</td>\n",
       "      <td>Casado</td>\n",
       "      <td>3</td>\n",
       "    </tr>\n",
       "    <tr>\n",
       "      <th>2</th>\n",
       "      <td>3</td>\n",
       "      <td>Solteiro</td>\n",
       "      <td>2</td>\n",
       "    </tr>\n",
       "    <tr>\n",
       "      <th>3</th>\n",
       "      <td>4</td>\n",
       "      <td>Solteiro</td>\n",
       "      <td>1</td>\n",
       "    </tr>\n",
       "    <tr>\n",
       "      <th>4</th>\n",
       "      <td>5</td>\n",
       "      <td>Solteiro</td>\n",
       "      <td>5</td>\n",
       "    </tr>\n",
       "    <tr>\n",
       "      <th>5</th>\n",
       "      <td>6</td>\n",
       "      <td>Casado</td>\n",
       "      <td>4</td>\n",
       "    </tr>\n",
       "    <tr>\n",
       "      <th>6</th>\n",
       "      <td>7</td>\n",
       "      <td>Casado</td>\n",
       "      <td>4</td>\n",
       "    </tr>\n",
       "    <tr>\n",
       "      <th>7</th>\n",
       "      <td>8</td>\n",
       "      <td>Divorciado</td>\n",
       "      <td>6</td>\n",
       "    </tr>\n",
       "    <tr>\n",
       "      <th>8</th>\n",
       "      <td>9</td>\n",
       "      <td>Solteiro</td>\n",
       "      <td>2</td>\n",
       "    </tr>\n",
       "    <tr>\n",
       "      <th>9</th>\n",
       "      <td>10</td>\n",
       "      <td>Divorciado</td>\n",
       "      <td>5</td>\n",
       "    </tr>\n",
       "  </tbody>\n",
       "</table>\n",
       "</div>"
      ],
      "text/plain": [
       "   Funcion�rio Estado Civil  Tempo na Empresa\n",
       "0            1     Solteiro                 2\n",
       "1            2       Casado                 3\n",
       "2            3     Solteiro                 2\n",
       "3            4     Solteiro                 1\n",
       "4            5     Solteiro                 5\n",
       "5            6       Casado                 4\n",
       "6            7       Casado                 4\n",
       "7            8   Divorciado                 6\n",
       "8            9     Solteiro                 2\n",
       "9           10   Divorciado                 5"
      ]
     },
     "execution_count": 14,
     "metadata": {},
     "output_type": "execute_result"
    }
   ],
   "source": [
    "import pandas as pd\n",
    "\n",
    "df = pd.read_csv(\"https://github.com/felipereis150/mod_sist/blob/main/primeira%20avalia%C3%A7%C3%A3o%20continuada/distribuicao_de_freq(ex4).csv?raw=true\", sep=\";\", encoding='utf-8')\n",
    "df.head(10)"
   ]
  },
  {
   "cell_type": "markdown",
   "metadata": {},
   "source": [
    "a)\tClassifique a variável estado civil e construa uma tabela de frequência;"
   ]
  },
  {
   "cell_type": "code",
   "execution_count": 68,
   "metadata": {},
   "outputs": [
    {
     "data": {
      "text/html": [
       "<style type=\"text/css\">\n",
       "</style>\n",
       "<table id=\"T_5e374_\">\n",
       "  <thead>\n",
       "    <tr>\n",
       "      <th class=\"index_name level0\" >col_0</th>\n",
       "      <th class=\"col_heading level0 col0\" >Freq. Abs.</th>\n",
       "      <th class=\"col_heading level0 col1\" >Freq. Rel.</th>\n",
       "      <th class=\"col_heading level0 col2\" >%.</th>\n",
       "    </tr>\n",
       "    <tr>\n",
       "      <th class=\"index_name level0\" >Estado Civil</th>\n",
       "      <th class=\"blank col0\" >&nbsp;</th>\n",
       "      <th class=\"blank col1\" >&nbsp;</th>\n",
       "      <th class=\"blank col2\" >&nbsp;</th>\n",
       "    </tr>\n",
       "  </thead>\n",
       "  <tbody>\n",
       "    <tr>\n",
       "      <th id=\"T_5e374_level0_row0\" class=\"row_heading level0 row0\" >Casado</th>\n",
       "      <td id=\"T_5e374_row0_col0\" class=\"data row0 col0\" >5</td>\n",
       "      <td id=\"T_5e374_row0_col1\" class=\"data row0 col1\" >0.33</td>\n",
       "      <td id=\"T_5e374_row0_col2\" class=\"data row0 col2\" >33.3%</td>\n",
       "    </tr>\n",
       "    <tr>\n",
       "      <th id=\"T_5e374_level0_row1\" class=\"row_heading level0 row1\" >Divorciado</th>\n",
       "      <td id=\"T_5e374_row1_col0\" class=\"data row1 col0\" >3</td>\n",
       "      <td id=\"T_5e374_row1_col1\" class=\"data row1 col1\" >0.20</td>\n",
       "      <td id=\"T_5e374_row1_col2\" class=\"data row1 col2\" >20.0%</td>\n",
       "    </tr>\n",
       "    <tr>\n",
       "      <th id=\"T_5e374_level0_row2\" class=\"row_heading level0 row2\" >Solteiro</th>\n",
       "      <td id=\"T_5e374_row2_col0\" class=\"data row2 col0\" >7</td>\n",
       "      <td id=\"T_5e374_row2_col1\" class=\"data row2 col1\" >0.47</td>\n",
       "      <td id=\"T_5e374_row2_col2\" class=\"data row2 col2\" >46.7%</td>\n",
       "    </tr>\n",
       "  </tbody>\n",
       "</table>\n"
      ],
      "text/plain": [
       "<pandas.io.formats.style.Styler at 0x29a23487f10>"
      ]
     },
     "metadata": {},
     "output_type": "display_data"
    }
   ],
   "source": [
    "frequency_table_a = pd.crosstab(df['Estado Civil'], 'Freq. Abs.')\n",
    "frequency_table_a['Freq. Rel.'] = frequency_table_a/len(df)\n",
    "frequency_table_a['%.'] = frequency_table_a['Freq. Rel.']\n",
    "\n",
    "frequency_table_a = frequency_table_a.style.format({\n",
    "    'Freq. Rel.': '{:,.2f}'.format,\n",
    "    '%.': '{:,.1%}'.format\n",
    "})\n",
    "display(frequency_table_a)"
   ]
  },
  {
   "cell_type": "markdown",
   "metadata": {},
   "source": [
    "b)\tClassifique a variável tempo na empresa e construa uma tabela de frequência;"
   ]
  },
  {
   "cell_type": "code",
   "execution_count": 69,
   "metadata": {},
   "outputs": [
    {
     "data": {
      "text/html": [
       "<style type=\"text/css\">\n",
       "</style>\n",
       "<table id=\"T_58c4b_\">\n",
       "  <thead>\n",
       "    <tr>\n",
       "      <th class=\"index_name level0\" >col_0</th>\n",
       "      <th class=\"col_heading level0 col0\" >Freq. Abs.</th>\n",
       "      <th class=\"col_heading level0 col1\" >Freq. Rel.</th>\n",
       "      <th class=\"col_heading level0 col2\" >%.</th>\n",
       "    </tr>\n",
       "    <tr>\n",
       "      <th class=\"index_name level0\" >Tempo na Empresa</th>\n",
       "      <th class=\"blank col0\" >&nbsp;</th>\n",
       "      <th class=\"blank col1\" >&nbsp;</th>\n",
       "      <th class=\"blank col2\" >&nbsp;</th>\n",
       "    </tr>\n",
       "  </thead>\n",
       "  <tbody>\n",
       "    <tr>\n",
       "      <th id=\"T_58c4b_level0_row0\" class=\"row_heading level0 row0\" >1</th>\n",
       "      <td id=\"T_58c4b_row0_col0\" class=\"data row0 col0\" >2</td>\n",
       "      <td id=\"T_58c4b_row0_col1\" class=\"data row0 col1\" >0.13</td>\n",
       "      <td id=\"T_58c4b_row0_col2\" class=\"data row0 col2\" >13.3%</td>\n",
       "    </tr>\n",
       "    <tr>\n",
       "      <th id=\"T_58c4b_level0_row1\" class=\"row_heading level0 row1\" >2</th>\n",
       "      <td id=\"T_58c4b_row1_col0\" class=\"data row1 col0\" >4</td>\n",
       "      <td id=\"T_58c4b_row1_col1\" class=\"data row1 col1\" >0.27</td>\n",
       "      <td id=\"T_58c4b_row1_col2\" class=\"data row1 col2\" >26.7%</td>\n",
       "    </tr>\n",
       "    <tr>\n",
       "      <th id=\"T_58c4b_level0_row2\" class=\"row_heading level0 row2\" >3</th>\n",
       "      <td id=\"T_58c4b_row2_col0\" class=\"data row2 col0\" >2</td>\n",
       "      <td id=\"T_58c4b_row2_col1\" class=\"data row2 col1\" >0.13</td>\n",
       "      <td id=\"T_58c4b_row2_col2\" class=\"data row2 col2\" >13.3%</td>\n",
       "    </tr>\n",
       "    <tr>\n",
       "      <th id=\"T_58c4b_level0_row3\" class=\"row_heading level0 row3\" >4</th>\n",
       "      <td id=\"T_58c4b_row3_col0\" class=\"data row3 col0\" >3</td>\n",
       "      <td id=\"T_58c4b_row3_col1\" class=\"data row3 col1\" >0.20</td>\n",
       "      <td id=\"T_58c4b_row3_col2\" class=\"data row3 col2\" >20.0%</td>\n",
       "    </tr>\n",
       "    <tr>\n",
       "      <th id=\"T_58c4b_level0_row4\" class=\"row_heading level0 row4\" >5</th>\n",
       "      <td id=\"T_58c4b_row4_col0\" class=\"data row4 col0\" >3</td>\n",
       "      <td id=\"T_58c4b_row4_col1\" class=\"data row4 col1\" >0.20</td>\n",
       "      <td id=\"T_58c4b_row4_col2\" class=\"data row4 col2\" >20.0%</td>\n",
       "    </tr>\n",
       "    <tr>\n",
       "      <th id=\"T_58c4b_level0_row5\" class=\"row_heading level0 row5\" >6</th>\n",
       "      <td id=\"T_58c4b_row5_col0\" class=\"data row5 col0\" >1</td>\n",
       "      <td id=\"T_58c4b_row5_col1\" class=\"data row5 col1\" >0.07</td>\n",
       "      <td id=\"T_58c4b_row5_col2\" class=\"data row5 col2\" >6.7%</td>\n",
       "    </tr>\n",
       "  </tbody>\n",
       "</table>\n"
      ],
      "text/plain": [
       "<pandas.io.formats.style.Styler at 0x29a22d09340>"
      ]
     },
     "metadata": {},
     "output_type": "display_data"
    }
   ],
   "source": [
    "frequency_table_b = pd.crosstab(df['Tempo na Empresa'], 'Freq. Abs.')\n",
    "frequency_table_b['Freq. Rel.'] = frequency_table_b/len(df)\n",
    "frequency_table_b['%.'] = frequency_table_b['Freq. Rel.']\n",
    "\n",
    "frequency_table_b = frequency_table_b.style.format({\n",
    "    'Freq. Rel.': '{:,.2f}'.format,\n",
    "    '%.': '{:,.1%}'.format\n",
    "})\n",
    "display(frequency_table_b)"
   ]
  },
  {
   "cell_type": "markdown",
   "metadata": {},
   "source": [
    "c)\tQual a percentagem de funcionários que tem no máximo 3 anos de trabalho nessa empresa?"
   ]
  },
  {
   "cell_type": "code",
   "execution_count": 84,
   "metadata": {},
   "outputs": [
    {
     "name": "stdout",
     "output_type": "stream",
     "text": [
      "0.16326530612244897\n"
     ]
    }
   ],
   "source": [
    "def countThreeYears():\n",
    "    \n",
    "    counter = 0\n",
    "    for i in df['Tempo na Empresa']:\n",
    "        if i <= 3:\n",
    "            counter += 1\n",
    "\n",
    "    result = counter / sum(df['Tempo na Empresa'])\n",
    "    print(result)\n",
    "\n",
    "countThreeYears()"
   ]
  },
  {
   "cell_type": "markdown",
   "metadata": {},
   "source": [
    "d)\tQual a percentagem de funcionários que possuem pelo menos 5 anos de serviço nessa empresa?"
   ]
  },
  {
   "cell_type": "code",
   "execution_count": 85,
   "metadata": {},
   "outputs": [
    {
     "name": "stdout",
     "output_type": "stream",
     "text": [
      "0.08163265306122448\n"
     ]
    }
   ],
   "source": [
    "def countFiveYears():\n",
    "    \n",
    "    counter = 0\n",
    "    for i in df['Tempo na Empresa']:\n",
    "        if i >= 5:\n",
    "            counter += 1\n",
    "\n",
    "    result = counter / sum(df['Tempo na Empresa'])\n",
    "    print(result)\n",
    "\n",
    "countFiveYears()"
   ]
  }
 ],
 "metadata": {
  "interpreter": {
   "hash": "7bd49331fcfbfaec625ed0cfd4873a4be9df0767e1f9884ae012b447021c23db"
  },
  "kernelspec": {
   "display_name": "Python 3.9.6 64-bit",
   "language": "python",
   "name": "python3"
  },
  "language_info": {
   "codemirror_mode": {
    "name": "ipython",
    "version": 3
   },
   "file_extension": ".py",
   "mimetype": "text/x-python",
   "name": "python",
   "nbconvert_exporter": "python",
   "pygments_lexer": "ipython3",
   "version": "3.9.6"
  },
  "orig_nbformat": 4
 },
 "nbformat": 4,
 "nbformat_minor": 2
}
