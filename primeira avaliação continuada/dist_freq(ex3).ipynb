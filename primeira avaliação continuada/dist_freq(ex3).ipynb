{
 "cells": [
  {
   "cell_type": "markdown",
   "metadata": {},
   "source": [
    "3)\tAs notas obtidas por 20 alunos de uma turma em uma prova de redação estão relacionadas a seguir:"
   ]
  },
  {
   "cell_type": "code",
   "execution_count": 96,
   "metadata": {},
   "outputs": [
    {
     "name": "stdout",
     "output_type": "stream",
     "text": [
      "[3.3, 4.2, 2.1, 5.6, 6.2, 7.4, 4.8, 1.9, 8.0, 4.8, 6.5, 3.2, 3.5, 8.6, 4.5, 3.8, 5.3, 1.2, 5.4, 9.3]\n"
     ]
    }
   ],
   "source": [
    "data = [3.3, 4.2, 2.1, 5.6, 6.2, 7.4, 4.8, 1.9, 8.0, 4.8, 6.5, 3.2, 3.5, 8.6, 4.5, 3.8, 5.3, 1.2, 5.4, 9.3]\n",
    "print(data)"
   ]
  },
  {
   "cell_type": "markdown",
   "metadata": {},
   "source": [
    "a)\tAgrupe os dados em seis classes de intervalos, cada uma com amplitude 1,5 a partir da nota 1,0 e faça uma tabela de frequência."
   ]
  },
  {
   "cell_type": "code",
   "execution_count": 152,
   "metadata": {},
   "outputs": [
    {
     "name": "stdout",
     "output_type": "stream",
     "text": [
      "7\n"
     ]
    }
   ],
   "source": [
    "import pandas as pd\n",
    "import numpy as np\n",
    "\n",
    "classes = [i for i in np.arange(1, 11, 1.5)]\n",
    "labels = ['1 ~ 2.5 ', '2.6 ~ 4.0', '4.1 ~ 6', '6.1 ~ 7.5', '7.6 ~ 9.0', '9+']\n",
    "print(len(classes))\n"
   ]
  },
  {
   "cell_type": "code",
   "execution_count": 153,
   "metadata": {},
   "outputs": [
    {
     "data": {
      "text/html": [
       "<div>\n",
       "<style scoped>\n",
       "    .dataframe tbody tr th:only-of-type {\n",
       "        vertical-align: middle;\n",
       "    }\n",
       "\n",
       "    .dataframe tbody tr th {\n",
       "        vertical-align: top;\n",
       "    }\n",
       "\n",
       "    .dataframe thead th {\n",
       "        text-align: right;\n",
       "    }\n",
       "</style>\n",
       "<table border=\"1\" class=\"dataframe\">\n",
       "  <thead>\n",
       "    <tr style=\"text-align: right;\">\n",
       "      <th></th>\n",
       "      <th>Data</th>\n",
       "      <th>Classe</th>\n",
       "    </tr>\n",
       "  </thead>\n",
       "  <tbody>\n",
       "    <tr>\n",
       "      <th>0</th>\n",
       "      <td>3.3</td>\n",
       "      <td>2.6 ~ 4.0</td>\n",
       "    </tr>\n",
       "    <tr>\n",
       "      <th>1</th>\n",
       "      <td>4.2</td>\n",
       "      <td>4.1 ~ 6</td>\n",
       "    </tr>\n",
       "    <tr>\n",
       "      <th>2</th>\n",
       "      <td>2.1</td>\n",
       "      <td>1 ~ 2.5</td>\n",
       "    </tr>\n",
       "    <tr>\n",
       "      <th>3</th>\n",
       "      <td>5.6</td>\n",
       "      <td>6.1 ~ 7.5</td>\n",
       "    </tr>\n",
       "    <tr>\n",
       "      <th>4</th>\n",
       "      <td>6.2</td>\n",
       "      <td>6.1 ~ 7.5</td>\n",
       "    </tr>\n",
       "    <tr>\n",
       "      <th>5</th>\n",
       "      <td>7.4</td>\n",
       "      <td>7.6 ~ 9.0</td>\n",
       "    </tr>\n",
       "    <tr>\n",
       "      <th>6</th>\n",
       "      <td>4.8</td>\n",
       "      <td>4.1 ~ 6</td>\n",
       "    </tr>\n",
       "    <tr>\n",
       "      <th>7</th>\n",
       "      <td>1.9</td>\n",
       "      <td>1 ~ 2.5</td>\n",
       "    </tr>\n",
       "    <tr>\n",
       "      <th>8</th>\n",
       "      <td>8.0</td>\n",
       "      <td>7.6 ~ 9.0</td>\n",
       "    </tr>\n",
       "    <tr>\n",
       "      <th>9</th>\n",
       "      <td>4.8</td>\n",
       "      <td>4.1 ~ 6</td>\n",
       "    </tr>\n",
       "    <tr>\n",
       "      <th>10</th>\n",
       "      <td>6.5</td>\n",
       "      <td>6.1 ~ 7.5</td>\n",
       "    </tr>\n",
       "    <tr>\n",
       "      <th>11</th>\n",
       "      <td>3.2</td>\n",
       "      <td>2.6 ~ 4.0</td>\n",
       "    </tr>\n",
       "    <tr>\n",
       "      <th>12</th>\n",
       "      <td>3.5</td>\n",
       "      <td>2.6 ~ 4.0</td>\n",
       "    </tr>\n",
       "    <tr>\n",
       "      <th>13</th>\n",
       "      <td>8.6</td>\n",
       "      <td>9+</td>\n",
       "    </tr>\n",
       "    <tr>\n",
       "      <th>14</th>\n",
       "      <td>4.5</td>\n",
       "      <td>4.1 ~ 6</td>\n",
       "    </tr>\n",
       "    <tr>\n",
       "      <th>15</th>\n",
       "      <td>3.8</td>\n",
       "      <td>2.6 ~ 4.0</td>\n",
       "    </tr>\n",
       "    <tr>\n",
       "      <th>16</th>\n",
       "      <td>5.3</td>\n",
       "      <td>4.1 ~ 6</td>\n",
       "    </tr>\n",
       "    <tr>\n",
       "      <th>17</th>\n",
       "      <td>1.2</td>\n",
       "      <td>1 ~ 2.5</td>\n",
       "    </tr>\n",
       "    <tr>\n",
       "      <th>18</th>\n",
       "      <td>5.4</td>\n",
       "      <td>4.1 ~ 6</td>\n",
       "    </tr>\n",
       "    <tr>\n",
       "      <th>19</th>\n",
       "      <td>9.3</td>\n",
       "      <td>9+</td>\n",
       "    </tr>\n",
       "  </tbody>\n",
       "</table>\n",
       "</div>"
      ],
      "text/plain": [
       "    Data     Classe\n",
       "0    3.3  2.6 ~ 4.0\n",
       "1    4.2    4.1 ~ 6\n",
       "2    2.1   1 ~ 2.5 \n",
       "3    5.6  6.1 ~ 7.5\n",
       "4    6.2  6.1 ~ 7.5\n",
       "5    7.4  7.6 ~ 9.0\n",
       "6    4.8    4.1 ~ 6\n",
       "7    1.9   1 ~ 2.5 \n",
       "8    8.0  7.6 ~ 9.0\n",
       "9    4.8    4.1 ~ 6\n",
       "10   6.5  6.1 ~ 7.5\n",
       "11   3.2  2.6 ~ 4.0\n",
       "12   3.5  2.6 ~ 4.0\n",
       "13   8.6         9+\n",
       "14   4.5    4.1 ~ 6\n",
       "15   3.8  2.6 ~ 4.0\n",
       "16   5.3    4.1 ~ 6\n",
       "17   1.2   1 ~ 2.5 \n",
       "18   5.4    4.1 ~ 6\n",
       "19   9.3         9+"
      ]
     },
     "execution_count": 153,
     "metadata": {},
     "output_type": "execute_result"
    }
   ],
   "source": [
    "df = pd.DataFrame(data, columns=['Data'])\n",
    "\n",
    "classes = pd.cut(x=df.Data, bins=classes, labels=labels)\n",
    "df['Classe'] = classes\n",
    "df.head(20)"
   ]
  },
  {
   "cell_type": "code",
   "execution_count": 154,
   "metadata": {},
   "outputs": [
    {
     "data": {
      "text/plain": [
       "4.1 ~ 6      6\n",
       "2.6 ~ 4.0    4\n",
       "1 ~ 2.5      3\n",
       "6.1 ~ 7.5    3\n",
       "7.6 ~ 9.0    2\n",
       "9+           2\n",
       "Name: Classe, dtype: int64"
      ]
     },
     "execution_count": 154,
     "metadata": {},
     "output_type": "execute_result"
    }
   ],
   "source": [
    "pd.value_counts(df.Classe)"
   ]
  },
  {
   "cell_type": "markdown",
   "metadata": {},
   "source": [
    "b)\tQual a porcentagem de alunos com nota menor do que 4. "
   ]
  },
  {
   "cell_type": "code",
   "execution_count": 169,
   "metadata": {},
   "outputs": [
    {
     "name": "stdout",
     "output_type": "stream",
     "text": [
      "O número de alunos com nota inferior a quatro é de 35.0%\n"
     ]
    }
   ],
   "source": [
    "counter = [i for i in df['Data'] if i < 4]\n",
    "print(\"O número de alunos com nota inferior a quatro é de {}%\".format(len(counter) / len(df)*100))\n",
    "\n",
    "\n",
    "# for i in df['Data']:\n",
    "#     if i < 4:\n",
    "#         counter +=1"
   ]
  }
 ],
 "metadata": {
  "interpreter": {
   "hash": "7bd49331fcfbfaec625ed0cfd4873a4be9df0767e1f9884ae012b447021c23db"
  },
  "kernelspec": {
   "display_name": "Python 3.9.6 64-bit",
   "language": "python",
   "name": "python3"
  },
  "language_info": {
   "codemirror_mode": {
    "name": "ipython",
    "version": 3
   },
   "file_extension": ".py",
   "mimetype": "text/x-python",
   "name": "python",
   "nbconvert_exporter": "python",
   "pygments_lexer": "ipython3",
   "version": "3.9.6"
  },
  "orig_nbformat": 4
 },
 "nbformat": 4,
 "nbformat_minor": 2
}
